{
 "cells": [
  {
   "cell_type": "markdown",
   "id": "93d6cf8e",
   "metadata": {},
   "source": [
    "# Module 7 Handon"
   ]
  },
  {
   "cell_type": "markdown",
   "id": "c62aa993",
   "metadata": {},
   "source": [
    "# Module Prepare"
   ]
  },
  {
   "cell_type": "code",
   "execution_count": 18,
   "id": "eec3b7ec",
   "metadata": {
    "pycharm": {
     "is_executing": true
    }
   },
   "outputs": [],
   "source": [
    "import pandas as pd\n",
    "from sklearn import preprocessing\n",
    "from sklearn import neighbors\n",
    "from sklearn import tree\n",
    "from sklearn import naive_bayes\n",
    "from sklearn import model_selection\n",
    "from sklearn import metrics\n",
    "from sklearn.feature_extraction.text import TfidfVectorizer\n",
    "from numpy import hstack\n",
    "import multiprocessing as mp"
   ]
  },
  {
   "cell_type": "markdown",
   "id": "0dd791e1",
   "metadata": {},
   "source": [
    "# (1) Use the Scikit-learn library to run machine learning tasks"
   ]
  },
  {
   "cell_type": "markdown",
   "id": "3cf421da",
   "metadata": {},
   "source": [
    "## Reading the dataset and then Encode the categorial variable"
   ]
  },
  {
   "cell_type": "code",
   "execution_count": 3,
   "id": "4e26ea67",
   "metadata": {},
   "outputs": [],
   "source": [
    "dataset = pd.read_csv('bank-full.csv',delimiter=';')\n",
    "dataset = dataset.drop(['age', 'balance', 'day', 'month', 'pdays', 'duration', 'campaign', \n",
    "'previous'], axis=1)\n",
    "le = {}\n",
    "\n",
    "for col in dataset:\n",
    "    if dataset[col].dtype == 'object':\n",
    "        le[col] = preprocessing.LabelEncoder()\n",
    "        dataset[col] = le[col].fit_transform(dataset[col])\n",
    "\n",
    "unknown_case = pd.DataFrame.from_dict({'job':'management', 'marital':'married', \n",
    "'education':'secondary', 'default': 'no', 'housing': 'yes', 'loan': 'no', 'contact': 'cellular', \n",
    "'poutcome':'success'}, orient='index').T\n",
    "\n",
    "for col in unknown_case:\n",
    "    if unknown_case[col].dtype == 'object':\n",
    "        unknown_case[col] = le[col].transform(unknown_case[col])\n",
    "\n",
    "X = dataset.drop(['y'],axis=1)\n",
    "y = dataset['y']"
   ]
  },
  {
   "cell_type": "markdown",
   "id": "44059fff",
   "metadata": {},
   "source": [
    "## The KNN example (K-Nearest Neighbors)"
   ]
  },
  {
   "cell_type": "code",
   "execution_count": 4,
   "id": "ba90d583",
   "metadata": {},
   "outputs": [
    {
     "name": "stdout",
     "output_type": "stream",
     "text": [
      "[0]\n"
     ]
    }
   ],
   "source": [
    "knn_model = neighbors.KNeighborsClassifier(n_neighbors=5)\n",
    "knn_model.fit(X,y)\n",
    "knn_predict = knn_model.predict(unknown_case)\n",
    "print(knn_predict)"
   ]
  },
  {
   "cell_type": "markdown",
   "id": "5861bf14",
   "metadata": {},
   "source": [
    "## The Decision tree Example"
   ]
  },
  {
   "cell_type": "code",
   "execution_count": 5,
   "id": "ee2bd389",
   "metadata": {},
   "outputs": [
    {
     "name": "stdout",
     "output_type": "stream",
     "text": [
      "[0]\n"
     ]
    }
   ],
   "source": [
    "dt_model = tree.DecisionTreeClassifier()\n",
    "dt_model.fit(X,y)\n",
    "dt_predict = dt_model.predict(unknown_case)\n",
    "print(dt_predict)"
   ]
  },
  {
   "cell_type": "markdown",
   "id": "6a2f1fff",
   "metadata": {},
   "source": [
    "## The Naive bayes Example"
   ]
  },
  {
   "cell_type": "code",
   "execution_count": 6,
   "id": "3d5c05d4",
   "metadata": {},
   "outputs": [
    {
     "name": "stdout",
     "output_type": "stream",
     "text": [
      "[1]\n"
     ]
    }
   ],
   "source": [
    "nb_model = naive_bayes.CategoricalNB()\n",
    "nb_model.fit(X,y)\n",
    "nb_predict = nb_model.predict(unknown_case)\n",
    "print(nb_predict)"
   ]
  },
  {
   "cell_type": "markdown",
   "id": "7d499fe9",
   "metadata": {},
   "source": [
    "# (2) Carryout a cross-validation"
   ]
  },
  {
   "cell_type": "markdown",
   "id": "4c5f8c75",
   "metadata": {},
   "source": [
    "## Cross-validation Example (CV)"
   ]
  },
  {
   "cell_type": "code",
   "execution_count": 7,
   "id": "a9526ce4",
   "metadata": {},
   "outputs": [
    {
     "name": "stdout",
     "output_type": "stream",
     "text": [
      "CV: p:0.75 r:0.58 f:0.60\n"
     ]
    }
   ],
   "source": [
    "X_fit, X_blindtest, y_fit, y_blindtest = model_selection.train_test_split(X, y, test_size = 0.1)\n",
    "\n",
    "precision_cv_score = model_selection.cross_val_score(dt_model, X_fit, y_fit, cv=5, scoring='precision_macro').mean()\n",
    "recall_cv_score = model_selection.cross_val_score(dt_model, X_fit, y_fit, cv=5, scoring='recall_macro').mean()\n",
    "f1_cv_score = model_selection.cross_val_score(dt_model, X_fit, y_fit, cv=5, scoring='f1_macro').mean()\n",
    "\n",
    "print('CV: p:{0:.2f} r:{1:.2f} f:{2:.2f}'.format(precision_cv_score, recall_cv_score, f1_cv_score))"
   ]
  },
  {
   "cell_type": "markdown",
   "id": "06dbcb1d",
   "metadata": {},
   "source": [
    "## Test Example"
   ]
  },
  {
   "cell_type": "code",
   "execution_count": 8,
   "id": "39552050",
   "metadata": {},
   "outputs": [
    {
     "name": "stdout",
     "output_type": "stream",
     "text": [
      "test: p:0.56 r:0.74 f:0.58\n"
     ]
    }
   ],
   "source": [
    "dt_model.fit(X_fit,y_fit)\n",
    "\n",
    "precision_test_score = metrics.precision_score(dt_model.predict(X_blindtest), y_blindtest, average='macro')\n",
    "recall_test_score = metrics.recall_score(dt_model.predict(X_blindtest), y_blindtest, average='macro')\n",
    "f1_test_score = metrics.f1_score(dt_model.predict(X_blindtest), y_blindtest, average='macro')\n",
    "\n",
    "print('test: p:{0:.2f} r:{1:.2f} f:{2:.2f}'.format(precision_test_score, recall_test_score, f1_test_score))\n"
   ]
  },
  {
   "cell_type": "markdown",
   "id": "d74e8307",
   "metadata": {},
   "source": [
    "# (3) Undertake a bug-classification experiment (pg 71-75)"
   ]
  },
  {
   "cell_type": "code",
   "execution_count": 9,
   "id": "67426879",
   "metadata": {},
   "outputs": [],
   "source": [
    "from pre import preprocess"
   ]
  },
  {
   "cell_type": "code",
   "execution_count": 16,
   "id": "48f8d823",
   "metadata": {},
   "outputs": [],
   "source": [
    "dataset = pd.read_json('embold_train.json')\n",
    "dataset.loc[dataset['label'] > 0, 'label'] = 1\n",
    "\n",
    "with mp.Pool(processes=7) as pool:\n",
    "    cleaned_title = pool.map(preprocess, dataset.title)\n",
    "\n",
    "with mp.Pool(processes=7) as pool:\n",
    "    cleaned_body = pool.map(preprocess, dataset.body)"
   ]
  },
  {
   "cell_type": "code",
   "execution_count": 38,
   "id": "9fb4b56f",
   "metadata": {},
   "outputs": [],
   "source": [
    "vectorizer = TfidfVectorizer(ngram_range=(1,1))\n",
    "X_title = vectorizer.fit_transform(cleaned_title)\n",
    "X_body = vectorizer.fit_transform(cleaned_body)\n",
    "\n",
    "X = hstack([X_title, X_body])\n",
    "y = dataset['label']"
   ]
  },
  {
   "cell_type": "code",
   "execution_count": 41,
   "id": "99fd6da7",
   "metadata": {},
   "outputs": [
    {
     "name": "stdout",
     "output_type": "stream",
     "text": [
      "CV: p:0.71 r:0.71 f:0.71\n"
     ]
    }
   ],
   "source": [
    "dt_model = tree.DecisionTreeClassifier()\n",
    "\n",
    "X_fit, X_blindtest, y_fit, y_blindtest = model_selection.train_test_split(X, y, test_size=0.1)\n",
    "\n",
    "precision_cv_score = model_selection.cross_val_score(dt_model, X_fit, y_fit, cv=3, n_jobs=-2, scoring='precision_macro').mean()\n",
    "recall_cv_score = model_selection.cross_val_score(dt_model, X_fit, y_fit, cv=3, n_jobs=-2, scoring='recall_macro').mean()\n",
    "f1_cv_score = model_selection.cross_val_score(dt_model, X_fit, y_fit, cv=3, n_jobs=-2, scoring='f1_macro').mean()\n",
    "\n",
    "print('CV: p:{0:.2f} r:{1:.2f} f:{2:.2f}'.format(precision_cv_score, recall_cv_score, f1_cv_score))"
   ]
  },
  {
   "cell_type": "code",
   "execution_count": 40,
   "id": "1fcd4626",
   "metadata": {},
   "outputs": [
    {
     "name": "stdout",
     "output_type": "stream",
     "text": [
      "test: p:0.56 r:0.74 f:0.58\n"
     ]
    }
   ],
   "source": [
    "dt_model.fit(X_fit, y_fit)\n",
    "\n",
    "precision_test_score = metrics.precision_score(dt_model.predict(X_blindtest), y_blindtest, average='macro')\n",
    "recall_test_score = metrics.recall_score(dt_model.predict(X_blindtest), y_blindtest, average='macro')\n",
    "f1_test_score = metrics.f1_score(dt_model.predict(X_blindtest), y_blindtest, average='macro')\n",
    "\n",
    "print('test: p:{0:.2f} r:{1:.2f} f:{2:.2f}'.format(precision_test_score, recall_test_score, f1_test_score))"
   ]
  },
  {
   "cell_type": "code",
   "execution_count": null,
   "id": "f6fe03ef",
   "metadata": {},
   "outputs": [],
   "source": []
  }
 ],
 "metadata": {
  "kernelspec": {
   "display_name": "Python 3 (ipykernel)",
   "language": "python",
   "name": "python3"
  },
  "language_info": {
   "codemirror_mode": {
    "name": "ipython",
    "version": 3
   },
   "file_extension": ".py",
   "mimetype": "text/x-python",
   "name": "python",
   "nbconvert_exporter": "python",
   "pygments_lexer": "ipython3",
   "version": "3.9.7"
  }
 },
 "nbformat": 4,
 "nbformat_minor": 5
}
